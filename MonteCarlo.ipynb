{
 "cells": [
  {
   "cell_type": "code",
   "execution_count": 17,
   "metadata": {},
   "outputs": [],
   "source": [
    "from Flags import *\n",
    "import numpy as np\n",
    "class MonteCarlo:\n",
    "    \n",
    "    def __init__(self, flags, gammma, epsilon, episodeLength):\n",
    "        self.flags = flags\n",
    "        self.gam = gammma\n",
    "        self.eps = epsilon\n",
    "        self.epL = episodeLength\n",
    "        self.initialize_values()\n",
    "        \n",
    "    def initialize_values(self):\n",
    "        self.Qval = {}\n",
    "        for state in self.flags.get_all_states():\n",
    "            self.Qval[(state, 'U')] = 0\n",
    "            self.Qval[(state, 'D')] = 0\n",
    "            self.Qval[(state, 'L')] = 0\n",
    "            self.Qval[(state, 'R')] = 0\n",
    "            \n",
    "    def sample_epsilon_greedy(self, state):\n",
    "        aVal = {'U':self.Qval[(state, 'U')], \n",
    "                'D':self.Qval[(state, 'D')]\n",
    "                'L':self.Qval[(state, 'L')]\n",
    "                'R':self.Qval[(state, 'R')]}\n",
    "        bestA = max(aVal, key = aVal.get)\n",
    "        action = ['U','D','L','R']\n",
    "        bestProb = 1 - self.eps+eps/4\n",
    "        regProb = self.eps/4\n",
    "        if bestA == 'U'\n",
    "          probs = [bestProb,regProb,regProb,regProb]\n",
    "        elif bestA == 'D'\n",
    "          probs = [regProb,bestProb,regProb,regProb]\n",
    "        elif bestA == 'L'\n",
    "          probs = [regProb,regProb,bestProb,regProb]\n",
    "        elif bestA == 'R'\n",
    "          probs = [regProb,regProb,regProb,bestProb]\n",
    "        action = np.random.choice(action, p=probs)\n",
    "            "
   ]
  },
  {
   "cell_type": "code",
   "execution_count": 18,
   "metadata": {},
   "outputs": [],
   "source": [
    "x = Flags()\n",
    "y = MonteCarlo(x, 0.99, 0.1, 200)"
   ]
  },
  {
   "cell_type": "code",
   "execution_count": 19,
   "metadata": {},
   "outputs": [
    {
     "data": {
      "text/plain": [
       "{((0, 0), 'U'): 0,\n",
       " ((0, 0), 'D'): 0,\n",
       " ((0, 0), 'L'): 0,\n",
       " ((0, 0), 'R'): 0,\n",
       " ((0, 1), 'U'): 0,\n",
       " ((0, 1), 'D'): 0,\n",
       " ((0, 1), 'L'): 0,\n",
       " ((0, 1), 'R'): 0,\n",
       " ((0, 2), 'U'): 0,\n",
       " ((0, 2), 'D'): 0,\n",
       " ((0, 2), 'L'): 0,\n",
       " ((0, 2), 'R'): 0,\n",
       " ((0, 3), 'U'): 0,\n",
       " ((0, 3), 'D'): 0,\n",
       " ((0, 3), 'L'): 0,\n",
       " ((0, 3), 'R'): 0,\n",
       " ((0, 4), 'U'): 0,\n",
       " ((0, 4), 'D'): 0,\n",
       " ((0, 4), 'L'): 0,\n",
       " ((0, 4), 'R'): 0,\n",
       " ((1, 0), 'U'): 0,\n",
       " ((1, 0), 'D'): 0,\n",
       " ((1, 0), 'L'): 0,\n",
       " ((1, 0), 'R'): 0,\n",
       " ((1, 1), 'U'): 0,\n",
       " ((1, 1), 'D'): 0,\n",
       " ((1, 1), 'L'): 0,\n",
       " ((1, 1), 'R'): 0,\n",
       " ((1, 2), 'U'): 0,\n",
       " ((1, 2), 'D'): 0,\n",
       " ((1, 2), 'L'): 0,\n",
       " ((1, 2), 'R'): 0,\n",
       " ((1, 3), 'U'): 0,\n",
       " ((1, 3), 'D'): 0,\n",
       " ((1, 3), 'L'): 0,\n",
       " ((1, 3), 'R'): 0,\n",
       " ((1, 4), 'U'): 0,\n",
       " ((1, 4), 'D'): 0,\n",
       " ((1, 4), 'L'): 0,\n",
       " ((1, 4), 'R'): 0,\n",
       " ((2, 0), 'U'): 0,\n",
       " ((2, 0), 'D'): 0,\n",
       " ((2, 0), 'L'): 0,\n",
       " ((2, 0), 'R'): 0,\n",
       " ((2, 1), 'U'): 0,\n",
       " ((2, 1), 'D'): 0,\n",
       " ((2, 1), 'L'): 0,\n",
       " ((2, 1), 'R'): 0,\n",
       " ((2, 2), 'U'): 0,\n",
       " ((2, 2), 'D'): 0,\n",
       " ((2, 2), 'L'): 0,\n",
       " ((2, 2), 'R'): 0,\n",
       " ((2, 3), 'U'): 0,\n",
       " ((2, 3), 'D'): 0,\n",
       " ((2, 3), 'L'): 0,\n",
       " ((2, 3), 'R'): 0,\n",
       " ((2, 4), 'U'): 0,\n",
       " ((2, 4), 'D'): 0,\n",
       " ((2, 4), 'L'): 0,\n",
       " ((2, 4), 'R'): 0,\n",
       " ((3, 0), 'U'): 0,\n",
       " ((3, 0), 'D'): 0,\n",
       " ((3, 0), 'L'): 0,\n",
       " ((3, 0), 'R'): 0,\n",
       " ((3, 1), 'U'): 0,\n",
       " ((3, 1), 'D'): 0,\n",
       " ((3, 1), 'L'): 0,\n",
       " ((3, 1), 'R'): 0,\n",
       " ((3, 2), 'U'): 0,\n",
       " ((3, 2), 'D'): 0,\n",
       " ((3, 2), 'L'): 0,\n",
       " ((3, 2), 'R'): 0,\n",
       " ((3, 3), 'U'): 0,\n",
       " ((3, 3), 'D'): 0,\n",
       " ((3, 3), 'L'): 0,\n",
       " ((3, 3), 'R'): 0,\n",
       " ((3, 4), 'U'): 0,\n",
       " ((3, 4), 'D'): 0,\n",
       " ((3, 4), 'L'): 0,\n",
       " ((3, 4), 'R'): 0,\n",
       " ((4, 0), 'U'): 0,\n",
       " ((4, 0), 'D'): 0,\n",
       " ((4, 0), 'L'): 0,\n",
       " ((4, 0), 'R'): 0,\n",
       " ((4, 1), 'U'): 0,\n",
       " ((4, 1), 'D'): 0,\n",
       " ((4, 1), 'L'): 0,\n",
       " ((4, 1), 'R'): 0,\n",
       " ((4, 2), 'U'): 0,\n",
       " ((4, 2), 'D'): 0,\n",
       " ((4, 2), 'L'): 0,\n",
       " ((4, 2), 'R'): 0,\n",
       " ((4, 3), 'U'): 0,\n",
       " ((4, 3), 'D'): 0,\n",
       " ((4, 3), 'L'): 0,\n",
       " ((4, 3), 'R'): 0,\n",
       " ((4, 4), 'U'): 0,\n",
       " ((4, 4), 'D'): 0,\n",
       " ((4, 4), 'L'): 0,\n",
       " ((4, 4), 'R'): 0}"
      ]
     },
     "execution_count": 19,
     "metadata": {},
     "output_type": "execute_result"
    }
   ],
   "source": [
    "y.Qval"
   ]
  },
  {
   "cell_type": "code",
   "execution_count": 20,
   "metadata": {},
   "outputs": [],
   "source": [
    "a = {'U':1, 'A':5}"
   ]
  },
  {
   "cell_type": "code",
   "execution_count": 23,
   "metadata": {},
   "outputs": [
    {
     "data": {
      "text/plain": [
       "'A'"
      ]
     },
     "execution_count": 23,
     "metadata": {},
     "output_type": "execute_result"
    }
   ],
   "source": [
    "max(a,key=a.get)"
   ]
  },
  {
   "cell_type": "code",
   "execution_count": null,
   "metadata": {},
   "outputs": [],
   "source": []
  }
 ],
 "metadata": {
  "kernelspec": {
   "display_name": "Python 3",
   "language": "python",
   "name": "python3"
  },
  "language_info": {
   "codemirror_mode": {
    "name": "ipython",
    "version": 3
   },
   "file_extension": ".py",
   "mimetype": "text/x-python",
   "name": "python",
   "nbconvert_exporter": "python",
   "pygments_lexer": "ipython3",
   "version": "3.7.1"
  }
 },
 "nbformat": 4,
 "nbformat_minor": 2
}
